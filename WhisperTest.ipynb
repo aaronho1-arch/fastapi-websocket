{
 "cells": [
  {
   "cell_type": "code",
   "execution_count": 2,
   "id": "4aeb4aa9-f3ae-4525-bce9-3e8b3d1730b2",
   "metadata": {},
   "outputs": [
    {
     "name": "stdout",
     "output_type": "stream",
     "text": [
      "C:\\Users\\aaron\\Documents\\Bible-AI-Transcription\n",
      "True\n",
      " I'm just watching the interview session where I don't know how to just watch our internet. Just in this watcher. I'm just watching, I'm going, I'm sick. Oh, when you get home, should I have dinner on the table for you? Oh, because you guys have jobs and I'm on a point. I've been through jobs right now. Chris, come on. It's over. They've been our best driver. Try and get a job. If I don't have a job, I can't even pay the rents a time. Well, at the moment, it's more expensive for me to participate in a packed-added input. That's like a 499 expense that they don't have to do. Oh, and I did too long on the toilet. I'm just going to have a light shift to watch really. I'm just going to show you the toilet. What? Oh, yeah, yeah, yeah, go ahead. Go ahead. You look at the set. Go ahead. Where do you know that money is? It's a really long. You know, my name's normal one with it. Because that's not the problem. Oh, I'm sick. There are a few to my scissors. Turn up my. It's not really, you know. It's disgusting. I clean up. Because I do get it. I don't care how big that position. I know that I can clean up some person. I don't care. I don't care.\n"
     ]
    }
   ],
   "source": [
    "import whisper\n",
    "import os \n",
    "import subprocess\n",
    "import sounddevice as sd\n",
    "import whisper\n",
    "\n",
    "subprocess.run([\"ffmpeg\", \"-version\"])\n",
    "\n",
    "print(os.getcwd())\n",
    "print(os.path.exists('audio.mp3'))  # Returns True or False\n",
    "\n",
    "model = whisper.load_model(\"tiny\")\n",
    "result = model.transcribe(\"audio.mp3\")\n",
    "print(result[\"text\"])"
   ]
  },
  {
   "cell_type": "code",
   "execution_count": 3,
   "id": "560b402f-8182-42bf-9878-c0ba937c98d0",
   "metadata": {},
   "outputs": [],
   "source": [
    "def transcribe_to_txt(input_filename: str, output_filename: str):\n",
    "    print('Running whisper transcription...')\n",
    "    # Compose the command of all components\n",
    "    command = ['./main', '-f', input_filename, '-otxt', '-of', output_filename, '-np']\n",
    "    # Execute the command\n",
    "    result = subprocess.run(command, capture_output=True, text=True)"
   ]
  },
  {
   "cell_type": "code",
   "execution_count": null,
   "id": "e0bd6663-5385-4c7a-89d2-a1edf0da632d",
   "metadata": {},
   "outputs": [],
   "source": []
  }
 ],
 "metadata": {
  "kernelspec": {
   "display_name": "Python 3 (ipykernel)",
   "language": "python",
   "name": "python3"
  },
  "language_info": {
   "codemirror_mode": {
    "name": "ipython",
    "version": 3
   },
   "file_extension": ".py",
   "mimetype": "text/x-python",
   "name": "python",
   "nbconvert_exporter": "python",
   "pygments_lexer": "ipython3",
   "version": "3.13.5"
  }
 },
 "nbformat": 4,
 "nbformat_minor": 5
}
